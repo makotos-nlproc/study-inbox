{
  "nbformat": 4,
  "nbformat_minor": 0,
  "metadata": {
    "colab": {
      "name": "Intro_to_Opt.ipynb",
      "provenance": [],
      "authorship_tag": "ABX9TyPPs1ydEHJ9N5XfvoTKFz7i"
    },
    "kernelspec": {
      "name": "python3",
      "display_name": "Python 3"
    }
  },
  "cells": [
    {
      "cell_type": "code",
      "metadata": {
        "id": "6B4pwD0Ate_W",
        "colab": {
          "base_uri": "https://localhost:8080/"
        },
        "outputId": "e281452d-e98d-4f72-b416-fe2f88516730"
      },
      "source": [
        "import cvxpy as cp\n",
        "x1, x2 = cp.Variable(), cp.Variable()\n",
        "obj = cp.Maximize( 20*x1 + 60*x2 )\n",
        "cons = [5*x1 + 4*x2 <= 80,\n",
        "        2*x1 + 4*x2 <= 40,\n",
        "        2*x1 + 8*x2 <= 64,\n",
        "        x1 >= 0,\n",
        "        x2 >= 0]\n",
        "P = cp.Problem(obj, cons)\n",
        "P.solve(verbose=True)\n",
        "print(x1.value, x2.value)"
      ],
      "execution_count": 3,
      "outputs": [
        {
          "output_type": "stream",
          "text": [
            "\n",
            "ECOS 2.0.7 - (C) embotech GmbH, Zurich Switzerland, 2012-15. Web: www.embotech.com/ECOS\n",
            "\n",
            "It     pcost       dcost      gap   pres   dres    k/t    mu     step   sigma     IR    |   BT\n",
            " 0  -4.814e+02  -1.107e+03  +3e+02  2e-04  3e-01  1e+00  5e+01    ---    ---    1  1  - |  -  - \n",
            " 1  -5.152e+02  -5.723e+02  +3e+01  2e-05  3e-02  3e-01  5e+00  0.9056  4e-03   0  0  0 |  0  0\n",
            " 2  -5.199e+02  -5.250e+02  +3e+00  2e-06  3e-03  3e-02  4e-01  0.9101  2e-03   1  0  0 |  0  0\n",
            " 3  -5.200e+02  -5.201e+02  +3e-02  2e-08  3e-05  4e-04  5e-03  0.9890  1e-04   1  0  0 |  0  0\n",
            " 4  -5.200e+02  -5.200e+02  +3e-04  2e-10  4e-07  4e-06  5e-05  0.9890  1e-04   1  0  0 |  0  0\n",
            " 5  -5.200e+02  -5.200e+02  +3e-06  2e-12  4e-09  5e-08  6e-07  0.9890  1e-04   1  0  0 |  0  0\n",
            "\n",
            "OPTIMAL (within feastol=4.2e-09, reltol=6.7e-09, abstol=3.5e-06).\n",
            "Runtime: 0.000299 seconds.\n",
            "\n",
            "7.999999991113182 6.00000000081113\n"
          ],
          "name": "stdout"
        }
      ]
    },
    {
      "cell_type": "code",
      "metadata": {
        "id": "7ZYkfJTwtylm"
      },
      "source": [
        ""
      ],
      "execution_count": null,
      "outputs": []
    }
  ]
}