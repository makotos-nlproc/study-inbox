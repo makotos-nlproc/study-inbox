{
  "nbformat": 4,
  "nbformat_minor": 0,
  "metadata": {
    "colab": {
      "name": "Intro_to_Opt.ipynb",
      "provenance": [],
      "authorship_tag": "ABX9TyMdygyZ5GIdIealTC+iWTw/"
    },
    "kernelspec": {
      "name": "python3",
      "display_name": "Python 3"
    }
  },
  "cells": [
    {
      "cell_type": "code",
      "metadata": {
        "id": "6B4pwD0Ate_W"
      },
      "source": [
        "import cvxpy as cp"
      ],
      "execution_count": 1,
      "outputs": []
    },
    {
      "cell_type": "code",
      "metadata": {
        "id": "7ZYkfJTwtylm"
      },
      "source": [
        ""
      ],
      "execution_count": null,
      "outputs": []
    }
  ]
}